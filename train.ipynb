{
 "cells": [
  {
   "cell_type": "code",
   "execution_count": 2,
   "metadata": {},
   "outputs": [],
   "source": [
    "# !pip3 install Cython\n",
    "# !pip3 install git+https://github.com/waleedka/coco.git#subdirectory=PythonAPI\n",
    "# !pip3 install git+https://github.com/waspinator/pycococreator.git\n",
    "# !pip3 install ninja yacs tqdm\n",
    "# !pip3 install -v --no-cache-dir --global-option=\"--cpp_ext\" --global-option=\"--cuda_ext\" git+https://github.com/NVIDIA/apex.git\n",
    "\n",
    "# %cd /tf/maskrcnn-benchmark\n",
    "# !python setup.py build develop\n",
    "\n",
    "!pip install Faker git+https://github.com/waspinator/pycococreator.git"
   ]
  },
  {
   "cell_type": "code",
   "execution_count": 44,
   "metadata": {},
   "outputs": [
    {
     "name": "stdout",
     "output_type": "stream",
     "text": [
      "/tf/maskrcnn-benchmark/my_tools/generator\n"
     ]
    }
   ],
   "source": [
    "%cd /tf/maskrcnn-benchmark/my_tools/generator\n",
    "!rm -R /tf/maskrcnn-benchmark/my_dataset/train\n",
    "\n",
    "!python main.py --imsize=256 --n_samples=5"
   ]
  },
  {
   "cell_type": "code",
   "execution_count": 46,
   "metadata": {},
   "outputs": [
    {
     "name": "stdout",
     "output_type": "stream",
     "text": [
      "/tf/maskrcnn-benchmark\n",
      "/tf/maskrcnn-benchmark/my_dataset/train/images/4.png\n",
      "/tf/maskrcnn-benchmark/my_dataset/train/images/2.png\n",
      "/tf/maskrcnn-benchmark/my_dataset/train/images/3.png\n",
      "/tf/maskrcnn-benchmark/my_dataset/train/images/1.png\n",
      "/tf/maskrcnn-benchmark/my_dataset/train/images/0.png\n"
     ]
    }
   ],
   "source": [
    "%cd /tf/maskrcnn-benchmark\n",
    "!python my_tools/convert_dataset.py"
   ]
  },
  {
   "cell_type": "code",
   "execution_count": 3,
   "metadata": {},
   "outputs": [
    {
     "name": "stdout",
     "output_type": "stream",
     "text": [
      "/tf/maskrcnn-benchmark\n",
      "Traceback (most recent call last):\n",
      "  File \"./tools/train_net.py\", line 15, in <module>\n",
      "    from maskrcnn_benchmark.data import make_data_loader\n",
      "  File \"/tf/maskrcnn-benchmark/maskrcnn_benchmark/data/__init__.py\", line 2, in <module>\n",
      "    from .build import make_data_loader\n",
      "  File \"/tf/maskrcnn-benchmark/maskrcnn_benchmark/data/build.py\", line 11, in <module>\n",
      "    from . import datasets as D\n",
      "  File \"/tf/maskrcnn-benchmark/maskrcnn_benchmark/data/datasets/__init__.py\", line 3, in <module>\n",
      "    from .coco import COCODataset\n",
      "  File \"/tf/maskrcnn-benchmark/maskrcnn_benchmark/data/datasets/coco.py\", line 8, in <module>\n",
      "    from maskrcnn_benchmark.structures.segmentation_mask import SegmentationMask\n",
      "  File \"/tf/maskrcnn-benchmark/maskrcnn_benchmark/structures/segmentation_mask.py\", line 5, in <module>\n",
      "    from maskrcnn_benchmark.layers.misc import interpolate\n",
      "  File \"/tf/maskrcnn-benchmark/maskrcnn_benchmark/layers/__init__.py\", line 10, in <module>\n",
      "    from .nms import nms\n",
      "  File \"/tf/maskrcnn-benchmark/maskrcnn_benchmark/layers/nms.py\", line 5, in <module>\n",
      "    from apex import amp\n",
      "ModuleNotFoundError: No module named 'apex'\n"
     ]
    }
   ],
   "source": [
    "%cd /tf/maskrcnn-benchmark\n",
    "!python ./tools/train_net.py --config-file \"./my_dataset/train/e2e_mask_rcnn_R_50_FPN_1x.yaml\""
   ]
  }
 ],
 "metadata": {
  "kernelspec": {
   "display_name": "Python 3",
   "language": "python",
   "name": "python3"
  },
  "language_info": {
   "codemirror_mode": {
    "name": "ipython",
    "version": 3
   },
   "file_extension": ".py",
   "mimetype": "text/x-python",
   "name": "python",
   "nbconvert_exporter": "python",
   "pygments_lexer": "ipython3",
   "version": "3.6.9"
  }
 },
 "nbformat": 4,
 "nbformat_minor": 2
}
